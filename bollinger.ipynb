{
 "cells": [
  {
   "cell_type": "code",
   "execution_count": 1,
   "metadata": {},
   "outputs": [],
   "source": [
    "import backtrader as bt\n",
    "import pandas as pd\n",
    "import numpy as np"
   ]
  },
  {
   "cell_type": "code",
   "execution_count": 13,
   "metadata": {},
   "outputs": [],
   "source": [
    "class BBands(bt.Strategy):\n",
    "\n",
    "    params = (\n",
    "        ('period', 20),\n",
    "        ('devfactor', 1),\n",
    "    )\n",
    "\n",
    "    def __init__(self):\n",
    "\n",
    "        self.bollinger = bt.indicators.BollingerBands(\n",
    "            self.data.close, period=self.params.period,\n",
    "            devfactor=self.params.devfactor)\n",
    "\n",
    "    def next(self):\n",
    "\n",
    "        if self.position:\n",
    "            if self.data.close < self.bollinger.lines.bot:\n",
    "                self.sell()\n",
    "\n",
    "        else:\n",
    "            if self.data.close > self.bollinger.lines.top:\n",
    "                self.buy()"
   ]
  },
  {
   "cell_type": "code",
   "execution_count": 11,
   "metadata": {},
   "outputs": [
    {
     "name": "stdout",
     "output_type": "stream",
     "text": [
      "[*********************100%***********************]  1 of 1 completed\n"
     ]
    }
   ],
   "source": [
    "import yfinance as yf\n",
    "stock_data = yf.download(\"SPY\", start=\"2023-02-15\", end=\"2023-04-14\", interval='5m')"
   ]
  },
  {
   "cell_type": "code",
   "execution_count": 17,
   "metadata": {},
   "outputs": [
    {
     "name": "stdout",
     "output_type": "stream",
     "text": [
      "Final Portfolio Value: 100124.29\n",
      "P/L: 124.29\n"
     ]
    }
   ],
   "source": [
    "cerebro = bt.Cerebro()\n",
    "data_feed = bt.feeds.PandasData(dataname=stock_data)\n",
    "cerebro.adddata(data_feed)\n",
    "cerebro.addstrategy(BBands)\n",
    "cerebro.addsizer(bt.sizers.AllInSizer, percents=50)\n",
    "cerebro.broker.setcash(100000)\n",
    "cerebro.run()\n",
    "portvalue = cerebro.broker.getvalue()\n",
    "pnl = portvalue - 100000\n",
    "print(f\"Final Portfolio Value: {portvalue:.2f}\")\n",
    "print(f\"P/L: {pnl:.2f}\")"
   ]
  }
 ],
 "metadata": {
  "kernelspec": {
   "display_name": "base",
   "language": "python",
   "name": "python3"
  },
  "language_info": {
   "codemirror_mode": {
    "name": "ipython",
    "version": 3
   },
   "file_extension": ".py",
   "mimetype": "text/x-python",
   "name": "python",
   "nbconvert_exporter": "python",
   "pygments_lexer": "ipython3",
   "version": "3.10.9"
  },
  "orig_nbformat": 4
 },
 "nbformat": 4,
 "nbformat_minor": 2
}
