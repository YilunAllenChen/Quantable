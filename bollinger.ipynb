{
 "cells": [
  {
   "cell_type": "code",
   "execution_count": 1,
   "metadata": {},
   "outputs": [],
   "source": [
    "import backtrader as bt\n",
    "import pandas as pd\n",
    "import numpy as np"
   ]
  },
  {
   "cell_type": "code",
   "execution_count": 2,
   "metadata": {},
   "outputs": [],
   "source": [
    "class BBands(bt.Strategy):\n",
    "\n",
    "    params = (\n",
    "        ('period', 20),\n",
    "        ('devfactor', 2),\n",
    "    )\n",
    "\n",
    "    def __init__(self):\n",
    "\n",
    "        self.bollinger = bt.indicators.BollingerBands(\n",
    "            self.data.close, period=self.params.period,\n",
    "            devfactor=self.params.devfactor)\n",
    "\n",
    "    def next(self):\n",
    "\n",
    "        if self.position:\n",
    "            if self.data.close < self.bollinger.lines.bot:\n",
    "                self.sell()\n",
    "\n",
    "        else:\n",
    "            if self.data.close > self.bollinger.lines.top:\n",
    "                self.buy()"
   ]
  },
  {
   "cell_type": "code",
   "execution_count": null,
   "metadata": {},
   "outputs": [],
   "source": [
    "import yfinance as yf\n",
    "stock_data = yf.download(\"SPY\", start=\"2023-02-14\", end=\"2023-04-14\", interval='15m')"
   ]
  }
 ],
 "metadata": {
  "kernelspec": {
   "display_name": "base",
   "language": "python",
   "name": "python3"
  },
  "language_info": {
   "codemirror_mode": {
    "name": "ipython",
    "version": 3
   },
   "file_extension": ".py",
   "mimetype": "text/x-python",
   "name": "python",
   "nbconvert_exporter": "python",
   "pygments_lexer": "ipython3",
   "version": "3.10.9"
  },
  "orig_nbformat": 4
 },
 "nbformat": 4,
 "nbformat_minor": 2
}
