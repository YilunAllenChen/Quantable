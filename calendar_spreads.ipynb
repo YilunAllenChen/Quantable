{
 "cells": [
  {
   "cell_type": "code",
   "execution_count": 118,
   "metadata": {},
   "outputs": [],
   "source": [
    "import numpy as np\n",
    "import pandas as pd\n",
    "import yfinance as yf\n",
    "from datetime import datetime\n",
    "import matplotlib.pyplot as plt"
   ]
  },
  {
   "cell_type": "code",
   "execution_count": 119,
   "metadata": {},
   "outputs": [],
   "source": [
    "def get_options_at(stock: yf.Ticker, at: str) -> pd.DataFrame:\n",
    "    \"\"\"\n",
    "    at: something like 20230723\n",
    "    \"\"\"\n",
    "    # Fetch option chain\n",
    "    front_option_chain = stock.option_chain(at)\n",
    "    calls = front_option_chain.calls\n",
    "    calls[\"cp\"] = \"c\"\n",
    "    puts = front_option_chain.puts\n",
    "    puts[\"cp\"] = \"p\"\n",
    "    options = pd.concat([calls, puts], axis=0)\n",
    "    return options"
   ]
  },
  {
   "cell_type": "code",
   "execution_count": 120,
   "metadata": {},
   "outputs": [],
   "source": [
    "from scipy.stats import norm\n",
    "\n",
    "\n",
    "def black_scholes(\n",
    "    stock_price, strike, interest_rate, days_to_expiry, implied_volatility, option_type\n",
    "):\n",
    "    T = days_to_expiry / 365\n",
    "    d1 = (\n",
    "        np.log(stock_price / strike)\n",
    "        + (interest_rate + 0.5 * implied_volatility**2) * T\n",
    "    ) / (implied_volatility * np.sqrt(T))\n",
    "    d2 = d1 - implied_volatility * np.sqrt(T)\n",
    "\n",
    "    if option_type == \"call\":\n",
    "        return stock_price * norm.cdf(d1) - strike * np.exp(\n",
    "            -interest_rate * T\n",
    "        ) * norm.cdf(d2)\n",
    "    elif option_type == \"put\":\n",
    "        return strike * np.exp(-interest_rate * T) * norm.cdf(\n",
    "            -d2\n",
    "        ) - stock_price * norm.cdf(-d1)\n",
    "\n",
    "\n",
    "def calculate_greeks(\n",
    "    stock_price, strike, interest_rate, days_to_expiry, implied_volatility, option_type\n",
    "):\n",
    "    T = days_to_expiry / 365\n",
    "    d1 = (\n",
    "        np.log(stock_price / strike)\n",
    "        + (interest_rate + 0.5 * implied_volatility**2) * T\n",
    "    ) / (implied_volatility * np.sqrt(T))\n",
    "    d2 = d1 - implied_volatility * np.sqrt(T)\n",
    "\n",
    "    delta, gamma, theta, vega = None, None, None, None\n",
    "\n",
    "    if option_type == \"call\":\n",
    "        delta = norm.cdf(d1)\n",
    "        gamma = norm.pdf(d1) / (stock_price * implied_volatility * np.sqrt(T))\n",
    "        theta = (\n",
    "            -stock_price * norm.pdf(d1) * implied_volatility / (2 * np.sqrt(T))\n",
    "            - interest_rate * strike * np.exp(-interest_rate * T) * norm.cdf(d2)\n",
    "        ) / 365\n",
    "        vega = stock_price * np.sqrt(T) * norm.pdf(d1) / 100\n",
    "    elif option_type == \"put\":\n",
    "        delta = norm.cdf(d1) - 1\n",
    "        gamma = norm.pdf(d1) / (stock_price * implied_volatility * np.sqrt(T))\n",
    "        theta = (\n",
    "            -stock_price * norm.pdf(d1) * implied_volatility / (2 * np.sqrt(T))\n",
    "            + interest_rate * strike * np.exp(-interest_rate * T) * norm.cdf(-d2)\n",
    "        ) / 365\n",
    "        vega = stock_price * np.sqrt(T) * norm.pdf(d1) / 100\n",
    "\n",
    "    return delta, gamma, theta, vega\n"
   ]
  },
  {
   "cell_type": "code",
   "execution_count": 121,
   "metadata": {},
   "outputs": [],
   "source": [
    "def calculate_greeks_and_payoff(option, stock_price, interest_rate, days_to_expiry):\n",
    "    call_flag = option[\"contractSymbol\"].find(\"C\") >= 0\n",
    "    option_type = \"call\" if call_flag else \"put\"\n",
    "\n",
    "    delta, gamma, theta, vega = calculate_greeks(\n",
    "        stock_price,\n",
    "        option[\"strike\"],\n",
    "        interest_rate,\n",
    "        days_to_expiry,\n",
    "        option[\"impliedVolatility\"],\n",
    "        option_type,\n",
    "    )\n",
    "\n",
    "    payoff = option[\"lastPrice\"] * delta\n",
    "\n",
    "    return pd.Series(\n",
    "        {\n",
    "            \"symbol\": option[\"contractSymbol\"],\n",
    "            \"strike\": option[\"strike\"],\n",
    "            \"payoff\": payoff,\n",
    "            \"delta\": delta,\n",
    "            \"gamma\": gamma,\n",
    "            \"vol\": option['impliedVolatility'],\n",
    "            \"theta\": theta,\n",
    "            \"vega\": vega,\n",
    "            \"ask\": option[\"ask\"],\n",
    "            \"bid\": option[\"bid\"],\n",
    "            \"last\": option[\"lastPrice\"],\n",
    "        }\n",
    "    )\n"
   ]
  },
  {
   "cell_type": "code",
   "execution_count": 140,
   "metadata": {},
   "outputs": [],
   "source": [
    "def plot_calendar_spread_expected_payoff(front_greeks: pd.DataFrame, back_greeks: pd.DataFrame, refPrice: float):\n",
    "    calendar_spreads = front_greeks.copy()[['last', 'strike', 'vol', 'payoff']].rename(columns={\"payoff\": \"front_payoff\", })\n",
    "    calendar_spreads.index = calendar_spreads.index.str.replace('0428', '0505')\n",
    "    calendar_spreads['spread_price'] = - calendar_spreads['last'] + back_greeks['last']\n",
    "    calendar_spreads['payoff'] = - calendar_spreads['front_payoff'] + back_greeks['payoff']\n",
    "    lower, upper = (refPrice * 0.9, refPrice * 1.1)\n",
    "    plt.axvline(refPrice, color='red')\n",
    "    df = calendar_spreads[calendar_spreads.index.str.contains(\"C\")]\n",
    "    df = df.dropna().set_index(\"strike\")\n",
    "    df['EV'] = df['payoff'] - df['spread_price']\n",
    "    df = df[df.index < upper]\n",
    "    df = df[df.index > lower]\n",
    "    df = df.sort_index()\n",
    "    df['EV'].rename(\"call\").plot()\n",
    "    dfp = calendar_spreads[calendar_spreads.index.str.contains(\"P\")]\n",
    "    dfp = dfp.dropna().set_index(\"strike\")\n",
    "    dfp['EV'] = dfp['payoff'] - dfp['spread_price']\n",
    "    dfp = dfp[dfp.index < upper]\n",
    "    dfp = dfp[dfp.index > lower]\n",
    "    dfp = dfp.sort_index()\n",
    "    dfp['EV'].rename(\"put\").plot()\n",
    "    plt.legend()\n",
    "    print(df.iloc[df['EV'].argmin()])\n",
    "    c_predicted_price = float(df.iloc[df['EV'].argmin()].name)\n",
    "    c_predicted_move = (c_predicted_price - refPrice) / refPrice\n",
    "    print(f\"call predicted price: {c_predicted_price}; predicted move: {100 * round(c_predicted_move, 2)}%\")\n",
    "    p_predicted_price = float(df.iloc[df['EV'].argmin()].name)\n",
    "    p_predicted_move = (c_predicted_price - refPrice) / refPrice\n",
    "    print(f\"put predicted price: {p_predicted_price}; predicted move: {100 * round(p_predicted_move, 2)}%\")"
   ]
  },
  {
   "cell_type": "code",
   "execution_count": 136,
   "metadata": {},
   "outputs": [],
   "source": [
    "def plot(ticker: str):\n",
    "    stock = yf.Ticker(ticker)\n",
    "    expirations = stock.options\n",
    "    today = datetime.now()\n",
    "    days_to_expiry1 = max((datetime.fromisoformat(expirations[0]) - today).days, 1)\n",
    "    days_to_expiry2 = (datetime.fromisoformat(expirations[1]) - today).days\n",
    "    days_to_expiry1, days_to_expiry2\n",
    "    interest_rate = 0.04  # Example interest rate, you can use any appropriate source\n",
    "    refPrice = stock.info[\"open\"]\n",
    "\n",
    "    front_expiry = expirations[0]\n",
    "    back_expiry = expirations[1]\n",
    "\n",
    "    front_options = get_options_at(stock, front_expiry)\n",
    "    back_options = get_options_at(stock, back_expiry)\n",
    "    front_greeks = front_options.apply(\n",
    "        calculate_greeks_and_payoff,\n",
    "        axis=1,\n",
    "        stock_price=refPrice,\n",
    "        interest_rate=interest_rate,\n",
    "        days_to_expiry=0.1,\n",
    "    ).set_index(\"symbol\")\n",
    "    back_greeks = back_options.apply(\n",
    "        calculate_greeks_and_payoff,\n",
    "        axis=1,\n",
    "        stock_price=refPrice,\n",
    "        interest_rate=interest_rate,\n",
    "        days_to_expiry=5,\n",
    "    ).set_index(\"symbol\")\n",
    "    plot_calendar_spread_expected_payoff(front_greeks, back_greeks, refPrice)"
   ]
  },
  {
   "cell_type": "code",
   "execution_count": 139,
   "metadata": {},
   "outputs": [
    {
     "name": "stdout",
     "output_type": "stream",
     "text": [
      "last            2.790000\n",
      "vol             0.384772\n",
      "front_payoff    2.790000\n",
      "spread_price    0.860000\n",
      "payoff          0.722624\n",
      "EV             -0.137376\n",
      "Name: 61.0, dtype: float64\n",
      "predicted price: 61.0; predicted move: -6.0%\n"
     ]
    },
    {
     "data": {
      "image/png": "[encoded data removed]",
      "text/plain": [
       "<Figure size 640x480 with 1 Axes>"
      ]
     },
     "metadata": {},
     "output_type": "display_data"
    }
   ],
   "source": [
    "plot(\"KO\")"
   ]
  },
  {
   "cell_type": "code",
   "execution_count": null,
   "metadata": {},
   "outputs": [],
   "source": []
  }
 ],
 "metadata": {
  "kernelspec": {
   "display_name": "base",
   "language": "python",
   "name": "python3"
  },
  "language_info": {
   "codemirror_mode": {
    "name": "ipython",
    "version": 3
   },
   "file_extension": ".py",
   "mimetype": "text/x-python",
   "name": "python",
   "nbconvert_exporter": "python",
   "pygments_lexer": "ipython3",
   "version": "3.10.9"
  },
  "orig_nbformat": 4
 },
 "nbformat": 4,
 "nbformat_minor": 2
}
